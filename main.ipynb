{
 "cells": [
  {
   "cell_type": "code",
   "execution_count": 301,
   "id": "17f2fbca",
   "metadata": {},
   "outputs": [],
   "source": [
    "import pandas as pd \n",
    "import numpy as np \n",
    "import matplotlib.pyplot as plt \n",
    "import seaborn as sns"
   ]
  },
  {
   "cell_type": "code",
   "execution_count": 302,
   "id": "d625e1ed",
   "metadata": {},
   "outputs": [
    {
     "data": {
      "text/html": [
       "<div>\n",
       "<style scoped>\n",
       "    .dataframe tbody tr th:only-of-type {\n",
       "        vertical-align: middle;\n",
       "    }\n",
       "\n",
       "    .dataframe tbody tr th {\n",
       "        vertical-align: top;\n",
       "    }\n",
       "\n",
       "    .dataframe thead th {\n",
       "        text-align: right;\n",
       "    }\n",
       "</style>\n",
       "<table border=\"1\" class=\"dataframe\">\n",
       "  <thead>\n",
       "    <tr style=\"text-align: right;\">\n",
       "      <th></th>\n",
       "      <th>_id</th>\n",
       "      <th>Date Time</th>\n",
       "      <th>profile</th>\n",
       "      <th>company</th>\n",
       "      <th>Location</th>\n",
       "      <th>Start Date</th>\n",
       "      <th>Stipend</th>\n",
       "      <th>Duration</th>\n",
       "      <th>Apply by Date</th>\n",
       "      <th>Offer</th>\n",
       "      <th>Skills and Perks</th>\n",
       "    </tr>\n",
       "  </thead>\n",
       "  <tbody>\n",
       "    <tr>\n",
       "      <th>0</th>\n",
       "      <td>5f9fc1e3fb43357b9094a297</td>\n",
       "      <td>2020-11-02 13:52:57</td>\n",
       "      <td>Fashion Design</td>\n",
       "      <td>Enamor</td>\n",
       "      <td>Bangalore</td>\n",
       "      <td>Immediately</td>\n",
       "      <td>5000 /month</td>\n",
       "      <td>2 Months</td>\n",
       "      <td>11 Nov' 20</td>\n",
       "      <td>Internship</td>\n",
       "      <td>[\"MS-Office\",\"Adobe Illustrator\",\"CorelDRAW\",\"...</td>\n",
       "    </tr>\n",
       "    <tr>\n",
       "      <th>1</th>\n",
       "      <td>5f9fc1e4fb43357b9094a298</td>\n",
       "      <td>2020-11-02 13:52:59</td>\n",
       "      <td>Operations</td>\n",
       "      <td>Lakshmi Tools &amp; Components</td>\n",
       "      <td>Hoskote</td>\n",
       "      <td>Immediately</td>\n",
       "      <td>12000 /month</td>\n",
       "      <td>1 Month</td>\n",
       "      <td>16 Nov' 20</td>\n",
       "      <td>Internship</td>\n",
       "      <td>[\"Chemistry\",\"Certificate\",\" Letter of recomme...</td>\n",
       "    </tr>\n",
       "    <tr>\n",
       "      <th>2</th>\n",
       "      <td>5f9fc1e4fb43357b9094a299</td>\n",
       "      <td>2020-11-02 13:53:00</td>\n",
       "      <td>Photography</td>\n",
       "      <td>Evineon Technologies</td>\n",
       "      <td>Bangalore</td>\n",
       "      <td>Immediately</td>\n",
       "      <td>10000-12000 /month</td>\n",
       "      <td>3 Months</td>\n",
       "      <td>16 Nov' 20</td>\n",
       "      <td>Internship</td>\n",
       "      <td>[\"Flexible work hours\",\" Free snacks &amp; beverag...</td>\n",
       "    </tr>\n",
       "    <tr>\n",
       "      <th>3</th>\n",
       "      <td>5f9fc1e5fb43357b9094a29a</td>\n",
       "      <td>2020-11-02 13:53:00</td>\n",
       "      <td>Social Media Marketing</td>\n",
       "      <td>VisualNet Private Limited</td>\n",
       "      <td>Bangalore</td>\n",
       "      <td>Immediately</td>\n",
       "      <td>7000 /month</td>\n",
       "      <td>6 Months</td>\n",
       "      <td>16 Nov' 20</td>\n",
       "      <td>Internship</td>\n",
       "      <td>[\"MS-Office\",\"Certificate\",\" Letter of recomme...</td>\n",
       "    </tr>\n",
       "    <tr>\n",
       "      <th>4</th>\n",
       "      <td>5f9fc1e6fb43357b9094a29b</td>\n",
       "      <td>2020-11-02 13:53:01</td>\n",
       "      <td>Business Development (Sales)</td>\n",
       "      <td>DM Consulting (India) Private Limited</td>\n",
       "      <td>Bangalore</td>\n",
       "      <td>Immediately</td>\n",
       "      <td>5000 /month</td>\n",
       "      <td>6 Months</td>\n",
       "      <td>16 Nov' 20</td>\n",
       "      <td>Internship</td>\n",
       "      <td>[]</td>\n",
       "    </tr>\n",
       "  </tbody>\n",
       "</table>\n",
       "</div>"
      ],
      "text/plain": [
       "                        _id            Date Time  \\\n",
       "0  5f9fc1e3fb43357b9094a297  2020-11-02 13:52:57   \n",
       "1  5f9fc1e4fb43357b9094a298  2020-11-02 13:52:59   \n",
       "2  5f9fc1e4fb43357b9094a299  2020-11-02 13:53:00   \n",
       "3  5f9fc1e5fb43357b9094a29a  2020-11-02 13:53:00   \n",
       "4  5f9fc1e6fb43357b9094a29b  2020-11-02 13:53:01   \n",
       "\n",
       "                        profile                                company  \\\n",
       "0                Fashion Design                                 Enamor   \n",
       "1                    Operations             Lakshmi Tools & Components   \n",
       "2                   Photography                   Evineon Technologies   \n",
       "3        Social Media Marketing              VisualNet Private Limited   \n",
       "4  Business Development (Sales)  DM Consulting (India) Private Limited   \n",
       "\n",
       "    Location   Start Date              Stipend  Duration Apply by Date  \\\n",
       "0  Bangalore  Immediately          5000 /month  2 Months    11 Nov' 20   \n",
       "1    Hoskote  Immediately         12000 /month   1 Month    16 Nov' 20   \n",
       "2  Bangalore  Immediately   10000-12000 /month  3 Months    16 Nov' 20   \n",
       "3  Bangalore  Immediately          7000 /month  6 Months    16 Nov' 20   \n",
       "4  Bangalore  Immediately          5000 /month  6 Months    16 Nov' 20   \n",
       "\n",
       "        Offer                                   Skills and Perks  \n",
       "0  Internship  [\"MS-Office\",\"Adobe Illustrator\",\"CorelDRAW\",\"...  \n",
       "1  Internship  [\"Chemistry\",\"Certificate\",\" Letter of recomme...  \n",
       "2  Internship  [\"Flexible work hours\",\" Free snacks & beverag...  \n",
       "3  Internship  [\"MS-Office\",\"Certificate\",\" Letter of recomme...  \n",
       "4  Internship                                                 []  "
      ]
     },
     "execution_count": 302,
     "metadata": {},
     "output_type": "execute_result"
    }
   ],
   "source": [
    "df=pd.read_csv(\"BANGALORE.csv\")\n",
    "df.head()"
   ]
  },
  {
   "cell_type": "code",
   "execution_count": 303,
   "id": "e61dcb6c",
   "metadata": {},
   "outputs": [
    {
     "name": "stdout",
     "output_type": "stream",
     "text": [
      "_id : 513\n",
      "Date Time : 403\n",
      "profile : 153\n",
      "company : 378\n",
      "Location : 21\n",
      "Start Date : 2\n",
      "Stipend : 98\n",
      "Duration : 11\n",
      "Apply by Date : 24\n",
      "Offer : 2\n",
      "Skills and Perks : 387\n"
     ]
    }
   ],
   "source": [
    "for i in df.columns:\n",
    "    print(i,\":\",df[i].nunique())"
   ]
  },
  {
   "cell_type": "code",
   "execution_count": 304,
   "id": "6353ea21",
   "metadata": {},
   "outputs": [
    {
     "data": {
      "text/plain": [
       "_id                 0\n",
       "Date Time           0\n",
       "profile             0\n",
       "company             0\n",
       "Location            0\n",
       "Start Date          0\n",
       "Stipend             0\n",
       "Duration            0\n",
       "Apply by Date       0\n",
       "Offer               0\n",
       "Skills and Perks    0\n",
       "dtype: int64"
      ]
     },
     "execution_count": 304,
     "metadata": {},
     "output_type": "execute_result"
    }
   ],
   "source": [
    "df.isna().sum()"
   ]
  },
  {
   "cell_type": "code",
   "execution_count": 305,
   "id": "4533e748",
   "metadata": {},
   "outputs": [
    {
     "data": {
      "text/plain": [
       "np.int64(0)"
      ]
     },
     "execution_count": 305,
     "metadata": {},
     "output_type": "execute_result"
    }
   ],
   "source": [
    "df.duplicated().sum()"
   ]
  },
  {
   "cell_type": "code",
   "execution_count": 306,
   "id": "d283db69",
   "metadata": {},
   "outputs": [
    {
     "data": {
      "text/plain": [
       "Skills and Perks\n",
       "[]                                                                                           21\n",
       "[\"Certificate\"]                                                                              17\n",
       "[\"Certificate\",\" Letter of recommendation\"]                                                  14\n",
       "[\"Certificate\",\" Letter of recommendation\",\" Flexible work hours\",\" Job offer\"]              10\n",
       "[\"Certificate\",\" Letter of recommendation\",\" Flexible work hours\",\" Informal dress code\"]     9\n",
       "[\"Certificate\",\" Letter of recommendation\",\" Flexible work hours\"]                            8\n",
       "[\"Certificate\",\" Job offer\"]                                                                  6\n",
       "[\"Certificate\",\" Letter of recommendation\",\" Job offer\"]                                      5\n",
       "[\"Certificate\",\" Letter of recommendation\",\" Informal dress code\"]                            4\n",
       "[\"Certificate\",\" Flexible work hours\"]                                                        4\n",
       "Name: count, dtype: int64"
      ]
     },
     "execution_count": 306,
     "metadata": {},
     "output_type": "execute_result"
    }
   ],
   "source": [
    "df['Skills and Perks'].value_counts().head(10)"
   ]
  },
  {
   "cell_type": "code",
   "execution_count": 307,
   "id": "d5907516",
   "metadata": {},
   "outputs": [
    {
     "name": "stderr",
     "output_type": "stream",
     "text": [
      "C:\\Users\\ganesh\\AppData\\Local\\Temp\\ipykernel_3168\\3704861103.py:1: FutureWarning: A value is trying to be set on a copy of a DataFrame or Series through chained assignment using an inplace method.\n",
      "The behavior will change in pandas 3.0. This inplace method will never work because the intermediate object on which we are setting values always behaves as a copy.\n",
      "\n",
      "For example, when doing 'df[col].method(value, inplace=True)', try using 'df.method({col: value}, inplace=True)' or df[col] = df[col].method(value) instead, to perform the operation inplace on the original object.\n",
      "\n",
      "\n",
      "  df[\"Skills and Perks\"].replace(\"[]\",\"No skill\",inplace=True)\n"
     ]
    }
   ],
   "source": [
    "df[\"Skills and Perks\"].replace(\"[]\",\"No skill\",inplace=True)\n"
   ]
  },
  {
   "cell_type": "code",
   "execution_count": 308,
   "id": "5bd982bd",
   "metadata": {},
   "outputs": [
    {
     "data": {
      "text/html": [
       "<div>\n",
       "<style scoped>\n",
       "    .dataframe tbody tr th:only-of-type {\n",
       "        vertical-align: middle;\n",
       "    }\n",
       "\n",
       "    .dataframe tbody tr th {\n",
       "        vertical-align: top;\n",
       "    }\n",
       "\n",
       "    .dataframe thead th {\n",
       "        text-align: right;\n",
       "    }\n",
       "</style>\n",
       "<table border=\"1\" class=\"dataframe\">\n",
       "  <thead>\n",
       "    <tr style=\"text-align: right;\">\n",
       "      <th></th>\n",
       "      <th>_id</th>\n",
       "      <th>Date Time</th>\n",
       "      <th>profile</th>\n",
       "      <th>company</th>\n",
       "      <th>Location</th>\n",
       "      <th>Start Date</th>\n",
       "      <th>Stipend</th>\n",
       "      <th>Duration</th>\n",
       "      <th>Apply by Date</th>\n",
       "      <th>Offer</th>\n",
       "      <th>Skills and Perks</th>\n",
       "    </tr>\n",
       "  </thead>\n",
       "  <tbody>\n",
       "    <tr>\n",
       "      <th>0</th>\n",
       "      <td>5f9fc1e3fb43357b9094a297</td>\n",
       "      <td>2020-11-02 13:52:57</td>\n",
       "      <td>Fashion Design</td>\n",
       "      <td>Enamor</td>\n",
       "      <td>Bangalore</td>\n",
       "      <td>Immediately</td>\n",
       "      <td>5000 /month</td>\n",
       "      <td>2 Months</td>\n",
       "      <td>11 Nov' 20</td>\n",
       "      <td>Internship</td>\n",
       "      <td>[\"MS-Office\",\"Adobe Illustrator\",\"CorelDRAW\",\"...</td>\n",
       "    </tr>\n",
       "    <tr>\n",
       "      <th>1</th>\n",
       "      <td>5f9fc1e4fb43357b9094a298</td>\n",
       "      <td>2020-11-02 13:52:59</td>\n",
       "      <td>Operations</td>\n",
       "      <td>Lakshmi Tools &amp; Components</td>\n",
       "      <td>Hoskote</td>\n",
       "      <td>Immediately</td>\n",
       "      <td>12000 /month</td>\n",
       "      <td>1 Month</td>\n",
       "      <td>16 Nov' 20</td>\n",
       "      <td>Internship</td>\n",
       "      <td>[\"Chemistry\",\"Certificate\",\" Letter of recomme...</td>\n",
       "    </tr>\n",
       "    <tr>\n",
       "      <th>2</th>\n",
       "      <td>5f9fc1e4fb43357b9094a299</td>\n",
       "      <td>2020-11-02 13:53:00</td>\n",
       "      <td>Photography</td>\n",
       "      <td>Evineon Technologies</td>\n",
       "      <td>Bangalore</td>\n",
       "      <td>Immediately</td>\n",
       "      <td>10000-12000 /month</td>\n",
       "      <td>3 Months</td>\n",
       "      <td>16 Nov' 20</td>\n",
       "      <td>Internship</td>\n",
       "      <td>[\"Flexible work hours\",\" Free snacks &amp; beverag...</td>\n",
       "    </tr>\n",
       "    <tr>\n",
       "      <th>3</th>\n",
       "      <td>5f9fc1e5fb43357b9094a29a</td>\n",
       "      <td>2020-11-02 13:53:00</td>\n",
       "      <td>Social Media Marketing</td>\n",
       "      <td>VisualNet Private Limited</td>\n",
       "      <td>Bangalore</td>\n",
       "      <td>Immediately</td>\n",
       "      <td>7000 /month</td>\n",
       "      <td>6 Months</td>\n",
       "      <td>16 Nov' 20</td>\n",
       "      <td>Internship</td>\n",
       "      <td>[\"MS-Office\",\"Certificate\",\" Letter of recomme...</td>\n",
       "    </tr>\n",
       "    <tr>\n",
       "      <th>4</th>\n",
       "      <td>5f9fc1e6fb43357b9094a29b</td>\n",
       "      <td>2020-11-02 13:53:01</td>\n",
       "      <td>Business Development (Sales)</td>\n",
       "      <td>DM Consulting (India) Private Limited</td>\n",
       "      <td>Bangalore</td>\n",
       "      <td>Immediately</td>\n",
       "      <td>5000 /month</td>\n",
       "      <td>6 Months</td>\n",
       "      <td>16 Nov' 20</td>\n",
       "      <td>Internship</td>\n",
       "      <td>No skill</td>\n",
       "    </tr>\n",
       "  </tbody>\n",
       "</table>\n",
       "</div>"
      ],
      "text/plain": [
       "                        _id            Date Time  \\\n",
       "0  5f9fc1e3fb43357b9094a297  2020-11-02 13:52:57   \n",
       "1  5f9fc1e4fb43357b9094a298  2020-11-02 13:52:59   \n",
       "2  5f9fc1e4fb43357b9094a299  2020-11-02 13:53:00   \n",
       "3  5f9fc1e5fb43357b9094a29a  2020-11-02 13:53:00   \n",
       "4  5f9fc1e6fb43357b9094a29b  2020-11-02 13:53:01   \n",
       "\n",
       "                        profile                                company  \\\n",
       "0                Fashion Design                                 Enamor   \n",
       "1                    Operations             Lakshmi Tools & Components   \n",
       "2                   Photography                   Evineon Technologies   \n",
       "3        Social Media Marketing              VisualNet Private Limited   \n",
       "4  Business Development (Sales)  DM Consulting (India) Private Limited   \n",
       "\n",
       "    Location   Start Date              Stipend  Duration Apply by Date  \\\n",
       "0  Bangalore  Immediately          5000 /month  2 Months    11 Nov' 20   \n",
       "1    Hoskote  Immediately         12000 /month   1 Month    16 Nov' 20   \n",
       "2  Bangalore  Immediately   10000-12000 /month  3 Months    16 Nov' 20   \n",
       "3  Bangalore  Immediately          7000 /month  6 Months    16 Nov' 20   \n",
       "4  Bangalore  Immediately          5000 /month  6 Months    16 Nov' 20   \n",
       "\n",
       "        Offer                                   Skills and Perks  \n",
       "0  Internship  [\"MS-Office\",\"Adobe Illustrator\",\"CorelDRAW\",\"...  \n",
       "1  Internship  [\"Chemistry\",\"Certificate\",\" Letter of recomme...  \n",
       "2  Internship  [\"Flexible work hours\",\" Free snacks & beverag...  \n",
       "3  Internship  [\"MS-Office\",\"Certificate\",\" Letter of recomme...  \n",
       "4  Internship                                           No skill  "
      ]
     },
     "execution_count": 308,
     "metadata": {},
     "output_type": "execute_result"
    }
   ],
   "source": [
    "df.head()"
   ]
  },
  {
   "cell_type": "code",
   "execution_count": 309,
   "id": "91b25452",
   "metadata": {},
   "outputs": [],
   "source": [
    "import ast"
   ]
  },
  {
   "cell_type": "code",
   "execution_count": 310,
   "id": "e584cea2",
   "metadata": {},
   "outputs": [],
   "source": [
    "skill_keywords = {\"Certificate\", \"Letter of recommendation\"}\n",
    "\n",
    "# Function to parse and split\n",
    "def extract_skills_perks(entry):\n",
    "    if entry == 'No skill':\n",
    "        return \"[No skills]\", \"[No perks]\"\n",
    "    try:\n",
    "        parsed = ast.literal_eval(entry)\n",
    "        skills = [i for i in parsed if i in skill_keywords]\n",
    "        perks = [i for i in parsed if i not in skill_keywords]\n",
    "        return skills, perks\n",
    "    except Exception as e:\n",
    "        print(\"Error parsing:\", entry, \"|\", e)\n",
    "        return \"[No skills]\", \"[No perks]\"\n",
    "\n",
    "# Apply the function\n",
    "df[['Skills', 'Perks']] = df['Skills and Perks'].apply(lambda x: pd.Series(extract_skills_perks(x)))\n"
   ]
  },
  {
   "cell_type": "code",
   "execution_count": 311,
   "id": "e1371a84",
   "metadata": {},
   "outputs": [],
   "source": [
    "df['Skills'] = df['Skills'].apply(lambda x: \"[No skills]\" if x == [] else x)\n",
    "df['Perks'] = df['Perks'].apply(lambda x: \"[No perks]\" if x == [] else x)"
   ]
  },
  {
   "cell_type": "code",
   "execution_count": 312,
   "id": "cb42f601",
   "metadata": {},
   "outputs": [
    {
     "data": {
      "text/plain": [
       "Skills\n",
       "[Certificate]                 438\n",
       "[No skills]                    61\n",
       "[Letter of recommendation]     14\n",
       "Name: count, dtype: int64"
      ]
     },
     "execution_count": 312,
     "metadata": {},
     "output_type": "execute_result"
    }
   ],
   "source": [
    "df['Skills'].value_counts()"
   ]
  },
  {
   "cell_type": "code",
   "execution_count": 313,
   "id": "439f2ce5",
   "metadata": {},
   "outputs": [
    {
     "data": {
      "text/plain": [
       "0    [Certificate]\n",
       "1    [Certificate]\n",
       "2      [No skills]\n",
       "3    [Certificate]\n",
       "4      [No skills]\n",
       "Name: Skills, dtype: object"
      ]
     },
     "execution_count": 313,
     "metadata": {},
     "output_type": "execute_result"
    }
   ],
   "source": [
    "df['Skills'].head()"
   ]
  },
  {
   "cell_type": "code",
   "execution_count": 314,
   "id": "7938d3eb",
   "metadata": {},
   "outputs": [
    {
     "data": {
      "text/plain": [
       "Perks\n",
       "[No perks]                                                                 38\n",
       "[ Letter of recommendation]                                                14\n",
       "[ Letter of recommendation,  Flexible work hours,  Job offer]              10\n",
       "[ Letter of recommendation,  Flexible work hours,  Informal dress code]     9\n",
       "[ Letter of recommendation,  Flexible work hours]                           8\n",
       "Name: count, dtype: int64"
      ]
     },
     "execution_count": 314,
     "metadata": {},
     "output_type": "execute_result"
    }
   ],
   "source": [
    "df['Perks'].value_counts().head()"
   ]
  },
  {
   "cell_type": "code",
   "execution_count": 315,
   "id": "facb19ca",
   "metadata": {},
   "outputs": [],
   "source": [
    "df.drop(columns='Skills and Perks',inplace=True)"
   ]
  },
  {
   "cell_type": "code",
   "execution_count": 316,
   "id": "7b5bb2b6",
   "metadata": {},
   "outputs": [
    {
     "data": {
      "text/plain": [
       "Index(['_id', 'Date Time', 'profile', 'company', 'Location', 'Start Date',\n",
       "       'Stipend', 'Duration', 'Apply by Date', 'Offer', 'Skills', 'Perks'],\n",
       "      dtype='object')"
      ]
     },
     "execution_count": 316,
     "metadata": {},
     "output_type": "execute_result"
    }
   ],
   "source": [
    "df.columns"
   ]
  },
  {
   "cell_type": "code",
   "execution_count": null,
   "id": "21f4b537",
   "metadata": {},
   "outputs": [],
   "source": [
    "df[\"Date Time\"]=pd.to_datetime(df[\"Date Time\"],errors=\"coerce\")\n",
    "df[\"Date\"]=df[\"Date Time\"].dt.day\n",
    "df[\"month\"]=df[\"Date Time\"].dt.month\n",
    "df[\"year\"]=df[\"Date Time\"].dt.year\n",
    "df[\"time\"]=df[\"Date Time\"].dt.time"
   ]
  },
  {
   "cell_type": "code",
   "execution_count": 318,
   "id": "f71168fa",
   "metadata": {},
   "outputs": [
    {
     "data": {
      "text/html": [
       "<div>\n",
       "<style scoped>\n",
       "    .dataframe tbody tr th:only-of-type {\n",
       "        vertical-align: middle;\n",
       "    }\n",
       "\n",
       "    .dataframe tbody tr th {\n",
       "        vertical-align: top;\n",
       "    }\n",
       "\n",
       "    .dataframe thead th {\n",
       "        text-align: right;\n",
       "    }\n",
       "</style>\n",
       "<table border=\"1\" class=\"dataframe\">\n",
       "  <thead>\n",
       "    <tr style=\"text-align: right;\">\n",
       "      <th></th>\n",
       "      <th>_id</th>\n",
       "      <th>Date Time</th>\n",
       "      <th>profile</th>\n",
       "      <th>company</th>\n",
       "      <th>Location</th>\n",
       "      <th>Start Date</th>\n",
       "      <th>Stipend</th>\n",
       "      <th>Duration</th>\n",
       "      <th>Apply by Date</th>\n",
       "      <th>Offer</th>\n",
       "      <th>Skills</th>\n",
       "      <th>Perks</th>\n",
       "      <th>Date</th>\n",
       "      <th>month</th>\n",
       "      <th>year</th>\n",
       "      <th>time</th>\n",
       "    </tr>\n",
       "  </thead>\n",
       "  <tbody>\n",
       "    <tr>\n",
       "      <th>0</th>\n",
       "      <td>5f9fc1e3fb43357b9094a297</td>\n",
       "      <td>2020-11-02 13:52:57</td>\n",
       "      <td>Fashion Design</td>\n",
       "      <td>Enamor</td>\n",
       "      <td>Bangalore</td>\n",
       "      <td>Immediately</td>\n",
       "      <td>5000 /month</td>\n",
       "      <td>2 Months</td>\n",
       "      <td>11 Nov' 20</td>\n",
       "      <td>Internship</td>\n",
       "      <td>[Certificate]</td>\n",
       "      <td>[MS-Office, Adobe Illustrator, CorelDRAW]</td>\n",
       "      <td>2020-11-02</td>\n",
       "      <td>11</td>\n",
       "      <td>2020</td>\n",
       "      <td>13:52:57</td>\n",
       "    </tr>\n",
       "    <tr>\n",
       "      <th>1</th>\n",
       "      <td>5f9fc1e4fb43357b9094a298</td>\n",
       "      <td>2020-11-02 13:52:59</td>\n",
       "      <td>Operations</td>\n",
       "      <td>Lakshmi Tools &amp; Components</td>\n",
       "      <td>Hoskote</td>\n",
       "      <td>Immediately</td>\n",
       "      <td>12000 /month</td>\n",
       "      <td>1 Month</td>\n",
       "      <td>16 Nov' 20</td>\n",
       "      <td>Internship</td>\n",
       "      <td>[Certificate]</td>\n",
       "      <td>[Chemistry,  Letter of recommendation,  Inform...</td>\n",
       "      <td>2020-11-02</td>\n",
       "      <td>11</td>\n",
       "      <td>2020</td>\n",
       "      <td>13:52:59</td>\n",
       "    </tr>\n",
       "    <tr>\n",
       "      <th>2</th>\n",
       "      <td>5f9fc1e4fb43357b9094a299</td>\n",
       "      <td>2020-11-02 13:53:00</td>\n",
       "      <td>Photography</td>\n",
       "      <td>Evineon Technologies</td>\n",
       "      <td>Bangalore</td>\n",
       "      <td>Immediately</td>\n",
       "      <td>10000-12000 /month</td>\n",
       "      <td>3 Months</td>\n",
       "      <td>16 Nov' 20</td>\n",
       "      <td>Internship</td>\n",
       "      <td>[No skills]</td>\n",
       "      <td>[Flexible work hours,  Free snacks &amp; beverages]</td>\n",
       "      <td>2020-11-02</td>\n",
       "      <td>11</td>\n",
       "      <td>2020</td>\n",
       "      <td>13:53:00</td>\n",
       "    </tr>\n",
       "    <tr>\n",
       "      <th>3</th>\n",
       "      <td>5f9fc1e5fb43357b9094a29a</td>\n",
       "      <td>2020-11-02 13:53:00</td>\n",
       "      <td>Social Media Marketing</td>\n",
       "      <td>VisualNet Private Limited</td>\n",
       "      <td>Bangalore</td>\n",
       "      <td>Immediately</td>\n",
       "      <td>7000 /month</td>\n",
       "      <td>6 Months</td>\n",
       "      <td>16 Nov' 20</td>\n",
       "      <td>Internship</td>\n",
       "      <td>[Certificate]</td>\n",
       "      <td>[MS-Office,  Letter of recommendation,  Flexib...</td>\n",
       "      <td>2020-11-02</td>\n",
       "      <td>11</td>\n",
       "      <td>2020</td>\n",
       "      <td>13:53:00</td>\n",
       "    </tr>\n",
       "    <tr>\n",
       "      <th>4</th>\n",
       "      <td>5f9fc1e6fb43357b9094a29b</td>\n",
       "      <td>2020-11-02 13:53:01</td>\n",
       "      <td>Business Development (Sales)</td>\n",
       "      <td>DM Consulting (India) Private Limited</td>\n",
       "      <td>Bangalore</td>\n",
       "      <td>Immediately</td>\n",
       "      <td>5000 /month</td>\n",
       "      <td>6 Months</td>\n",
       "      <td>16 Nov' 20</td>\n",
       "      <td>Internship</td>\n",
       "      <td>[No skills]</td>\n",
       "      <td>[No perks]</td>\n",
       "      <td>2020-11-02</td>\n",
       "      <td>11</td>\n",
       "      <td>2020</td>\n",
       "      <td>13:53:01</td>\n",
       "    </tr>\n",
       "  </tbody>\n",
       "</table>\n",
       "</div>"
      ],
      "text/plain": [
       "                        _id           Date Time                       profile  \\\n",
       "0  5f9fc1e3fb43357b9094a297 2020-11-02 13:52:57                Fashion Design   \n",
       "1  5f9fc1e4fb43357b9094a298 2020-11-02 13:52:59                    Operations   \n",
       "2  5f9fc1e4fb43357b9094a299 2020-11-02 13:53:00                   Photography   \n",
       "3  5f9fc1e5fb43357b9094a29a 2020-11-02 13:53:00        Social Media Marketing   \n",
       "4  5f9fc1e6fb43357b9094a29b 2020-11-02 13:53:01  Business Development (Sales)   \n",
       "\n",
       "                                 company   Location   Start Date  \\\n",
       "0                                 Enamor  Bangalore  Immediately   \n",
       "1             Lakshmi Tools & Components    Hoskote  Immediately   \n",
       "2                   Evineon Technologies  Bangalore  Immediately   \n",
       "3              VisualNet Private Limited  Bangalore  Immediately   \n",
       "4  DM Consulting (India) Private Limited  Bangalore  Immediately   \n",
       "\n",
       "               Stipend  Duration Apply by Date       Offer         Skills  \\\n",
       "0          5000 /month  2 Months    11 Nov' 20  Internship  [Certificate]   \n",
       "1         12000 /month   1 Month    16 Nov' 20  Internship  [Certificate]   \n",
       "2   10000-12000 /month  3 Months    16 Nov' 20  Internship    [No skills]   \n",
       "3          7000 /month  6 Months    16 Nov' 20  Internship  [Certificate]   \n",
       "4          5000 /month  6 Months    16 Nov' 20  Internship    [No skills]   \n",
       "\n",
       "                                               Perks        Date  month  year  \\\n",
       "0          [MS-Office, Adobe Illustrator, CorelDRAW]  2020-11-02     11  2020   \n",
       "1  [Chemistry,  Letter of recommendation,  Inform...  2020-11-02     11  2020   \n",
       "2    [Flexible work hours,  Free snacks & beverages]  2020-11-02     11  2020   \n",
       "3  [MS-Office,  Letter of recommendation,  Flexib...  2020-11-02     11  2020   \n",
       "4                                         [No perks]  2020-11-02     11  2020   \n",
       "\n",
       "       time  \n",
       "0  13:52:57  \n",
       "1  13:52:59  \n",
       "2  13:53:00  \n",
       "3  13:53:00  \n",
       "4  13:53:01  "
      ]
     },
     "execution_count": 318,
     "metadata": {},
     "output_type": "execute_result"
    }
   ],
   "source": [
    "df.head()"
   ]
  },
  {
   "cell_type": "code",
   "execution_count": null,
   "id": "050775fe",
   "metadata": {},
   "outputs": [],
   "source": []
  }
 ],
 "metadata": {
  "kernelspec": {
   "display_name": "base",
   "language": "python",
   "name": "python3"
  },
  "language_info": {
   "codemirror_mode": {
    "name": "ipython",
    "version": 3
   },
   "file_extension": ".py",
   "mimetype": "text/x-python",
   "name": "python",
   "nbconvert_exporter": "python",
   "pygments_lexer": "ipython3",
   "version": "3.13.5"
  }
 },
 "nbformat": 4,
 "nbformat_minor": 5
}
